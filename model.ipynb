{
  "nbformat": 4,
  "nbformat_minor": 0,
  "metadata": {
    "colab": {
      "provenance": [],
      "authorship_tag": "ABX9TyNb/20wnN++o/DwCpcM1Cyz"
    },
    "kernelspec": {
      "name": "python3",
      "display_name": "Python 3"
    },
    "language_info": {
      "name": "python"
    },
    "widgets": {
      "application/vnd.jupyter.widget-state+json": {
        "b8fdd33f1abe46a6b142a3942b8913e6": {
          "model_module": "@jupyter-widgets/controls",
          "model_name": "HBoxModel",
          "model_module_version": "1.5.0",
          "state": {
            "_dom_classes": [],
            "_model_module": "@jupyter-widgets/controls",
            "_model_module_version": "1.5.0",
            "_model_name": "HBoxModel",
            "_view_count": null,
            "_view_module": "@jupyter-widgets/controls",
            "_view_module_version": "1.5.0",
            "_view_name": "HBoxView",
            "box_style": "",
            "children": [
              "IPY_MODEL_77968c6a012146589bca9017896599a3",
              "IPY_MODEL_b921b533aa4b4a01b7c4d5586174a08a",
              "IPY_MODEL_8333bf9e1f18406c9c47bd69bcb71810"
            ],
            "layout": "IPY_MODEL_62dbdefbeaa64bcd8cc5575ca94c66b2"
          }
        },
        "77968c6a012146589bca9017896599a3": {
          "model_module": "@jupyter-widgets/controls",
          "model_name": "HTMLModel",
          "model_module_version": "1.5.0",
          "state": {
            "_dom_classes": [],
            "_model_module": "@jupyter-widgets/controls",
            "_model_module_version": "1.5.0",
            "_model_name": "HTMLModel",
            "_view_count": null,
            "_view_module": "@jupyter-widgets/controls",
            "_view_module_version": "1.5.0",
            "_view_name": "HTMLView",
            "description": "",
            "description_tooltip": null,
            "layout": "IPY_MODEL_70beb17b7ac24e8081600dcec232e422",
            "placeholder": "​",
            "style": "IPY_MODEL_0bc9b979507a4552ac5baf5e323f0ce0",
            "value": "100%"
          }
        },
        "b921b533aa4b4a01b7c4d5586174a08a": {
          "model_module": "@jupyter-widgets/controls",
          "model_name": "FloatProgressModel",
          "model_module_version": "1.5.0",
          "state": {
            "_dom_classes": [],
            "_model_module": "@jupyter-widgets/controls",
            "_model_module_version": "1.5.0",
            "_model_name": "FloatProgressModel",
            "_view_count": null,
            "_view_module": "@jupyter-widgets/controls",
            "_view_module_version": "1.5.0",
            "_view_name": "ProgressView",
            "bar_style": "success",
            "description": "",
            "description_tooltip": null,
            "layout": "IPY_MODEL_33e3e32777604a64805cffa1f9f68e8c",
            "max": 3,
            "min": 0,
            "orientation": "horizontal",
            "style": "IPY_MODEL_379e6a3bde364fcfb12871e32b0e39af",
            "value": 3
          }
        },
        "8333bf9e1f18406c9c47bd69bcb71810": {
          "model_module": "@jupyter-widgets/controls",
          "model_name": "HTMLModel",
          "model_module_version": "1.5.0",
          "state": {
            "_dom_classes": [],
            "_model_module": "@jupyter-widgets/controls",
            "_model_module_version": "1.5.0",
            "_model_name": "HTMLModel",
            "_view_count": null,
            "_view_module": "@jupyter-widgets/controls",
            "_view_module_version": "1.5.0",
            "_view_name": "HTMLView",
            "description": "",
            "description_tooltip": null,
            "layout": "IPY_MODEL_05edd7ce307d4574b8cc4cfdf98593ab",
            "placeholder": "​",
            "style": "IPY_MODEL_c84acdbbcdb24a90b22033a1a73402b0",
            "value": " 3/3 [01:49&lt;00:00, 36.53s/it]"
          }
        },
        "62dbdefbeaa64bcd8cc5575ca94c66b2": {
          "model_module": "@jupyter-widgets/base",
          "model_name": "LayoutModel",
          "model_module_version": "1.2.0",
          "state": {
            "_model_module": "@jupyter-widgets/base",
            "_model_module_version": "1.2.0",
            "_model_name": "LayoutModel",
            "_view_count": null,
            "_view_module": "@jupyter-widgets/base",
            "_view_module_version": "1.2.0",
            "_view_name": "LayoutView",
            "align_content": null,
            "align_items": null,
            "align_self": null,
            "border": null,
            "bottom": null,
            "display": null,
            "flex": null,
            "flex_flow": null,
            "grid_area": null,
            "grid_auto_columns": null,
            "grid_auto_flow": null,
            "grid_auto_rows": null,
            "grid_column": null,
            "grid_gap": null,
            "grid_row": null,
            "grid_template_areas": null,
            "grid_template_columns": null,
            "grid_template_rows": null,
            "height": null,
            "justify_content": null,
            "justify_items": null,
            "left": null,
            "margin": null,
            "max_height": null,
            "max_width": null,
            "min_height": null,
            "min_width": null,
            "object_fit": null,
            "object_position": null,
            "order": null,
            "overflow": null,
            "overflow_x": null,
            "overflow_y": null,
            "padding": null,
            "right": null,
            "top": null,
            "visibility": null,
            "width": null
          }
        },
        "70beb17b7ac24e8081600dcec232e422": {
          "model_module": "@jupyter-widgets/base",
          "model_name": "LayoutModel",
          "model_module_version": "1.2.0",
          "state": {
            "_model_module": "@jupyter-widgets/base",
            "_model_module_version": "1.2.0",
            "_model_name": "LayoutModel",
            "_view_count": null,
            "_view_module": "@jupyter-widgets/base",
            "_view_module_version": "1.2.0",
            "_view_name": "LayoutView",
            "align_content": null,
            "align_items": null,
            "align_self": null,
            "border": null,
            "bottom": null,
            "display": null,
            "flex": null,
            "flex_flow": null,
            "grid_area": null,
            "grid_auto_columns": null,
            "grid_auto_flow": null,
            "grid_auto_rows": null,
            "grid_column": null,
            "grid_gap": null,
            "grid_row": null,
            "grid_template_areas": null,
            "grid_template_columns": null,
            "grid_template_rows": null,
            "height": null,
            "justify_content": null,
            "justify_items": null,
            "left": null,
            "margin": null,
            "max_height": null,
            "max_width": null,
            "min_height": null,
            "min_width": null,
            "object_fit": null,
            "object_position": null,
            "order": null,
            "overflow": null,
            "overflow_x": null,
            "overflow_y": null,
            "padding": null,
            "right": null,
            "top": null,
            "visibility": null,
            "width": null
          }
        },
        "0bc9b979507a4552ac5baf5e323f0ce0": {
          "model_module": "@jupyter-widgets/controls",
          "model_name": "DescriptionStyleModel",
          "model_module_version": "1.5.0",
          "state": {
            "_model_module": "@jupyter-widgets/controls",
            "_model_module_version": "1.5.0",
            "_model_name": "DescriptionStyleModel",
            "_view_count": null,
            "_view_module": "@jupyter-widgets/base",
            "_view_module_version": "1.2.0",
            "_view_name": "StyleView",
            "description_width": ""
          }
        },
        "33e3e32777604a64805cffa1f9f68e8c": {
          "model_module": "@jupyter-widgets/base",
          "model_name": "LayoutModel",
          "model_module_version": "1.2.0",
          "state": {
            "_model_module": "@jupyter-widgets/base",
            "_model_module_version": "1.2.0",
            "_model_name": "LayoutModel",
            "_view_count": null,
            "_view_module": "@jupyter-widgets/base",
            "_view_module_version": "1.2.0",
            "_view_name": "LayoutView",
            "align_content": null,
            "align_items": null,
            "align_self": null,
            "border": null,
            "bottom": null,
            "display": null,
            "flex": null,
            "flex_flow": null,
            "grid_area": null,
            "grid_auto_columns": null,
            "grid_auto_flow": null,
            "grid_auto_rows": null,
            "grid_column": null,
            "grid_gap": null,
            "grid_row": null,
            "grid_template_areas": null,
            "grid_template_columns": null,
            "grid_template_rows": null,
            "height": null,
            "justify_content": null,
            "justify_items": null,
            "left": null,
            "margin": null,
            "max_height": null,
            "max_width": null,
            "min_height": null,
            "min_width": null,
            "object_fit": null,
            "object_position": null,
            "order": null,
            "overflow": null,
            "overflow_x": null,
            "overflow_y": null,
            "padding": null,
            "right": null,
            "top": null,
            "visibility": null,
            "width": null
          }
        },
        "379e6a3bde364fcfb12871e32b0e39af": {
          "model_module": "@jupyter-widgets/controls",
          "model_name": "ProgressStyleModel",
          "model_module_version": "1.5.0",
          "state": {
            "_model_module": "@jupyter-widgets/controls",
            "_model_module_version": "1.5.0",
            "_model_name": "ProgressStyleModel",
            "_view_count": null,
            "_view_module": "@jupyter-widgets/base",
            "_view_module_version": "1.2.0",
            "_view_name": "StyleView",
            "bar_color": null,
            "description_width": ""
          }
        },
        "05edd7ce307d4574b8cc4cfdf98593ab": {
          "model_module": "@jupyter-widgets/base",
          "model_name": "LayoutModel",
          "model_module_version": "1.2.0",
          "state": {
            "_model_module": "@jupyter-widgets/base",
            "_model_module_version": "1.2.0",
            "_model_name": "LayoutModel",
            "_view_count": null,
            "_view_module": "@jupyter-widgets/base",
            "_view_module_version": "1.2.0",
            "_view_name": "LayoutView",
            "align_content": null,
            "align_items": null,
            "align_self": null,
            "border": null,
            "bottom": null,
            "display": null,
            "flex": null,
            "flex_flow": null,
            "grid_area": null,
            "grid_auto_columns": null,
            "grid_auto_flow": null,
            "grid_auto_rows": null,
            "grid_column": null,
            "grid_gap": null,
            "grid_row": null,
            "grid_template_areas": null,
            "grid_template_columns": null,
            "grid_template_rows": null,
            "height": null,
            "justify_content": null,
            "justify_items": null,
            "left": null,
            "margin": null,
            "max_height": null,
            "max_width": null,
            "min_height": null,
            "min_width": null,
            "object_fit": null,
            "object_position": null,
            "order": null,
            "overflow": null,
            "overflow_x": null,
            "overflow_y": null,
            "padding": null,
            "right": null,
            "top": null,
            "visibility": null,
            "width": null
          }
        },
        "c84acdbbcdb24a90b22033a1a73402b0": {
          "model_module": "@jupyter-widgets/controls",
          "model_name": "DescriptionStyleModel",
          "model_module_version": "1.5.0",
          "state": {
            "_model_module": "@jupyter-widgets/controls",
            "_model_module_version": "1.5.0",
            "_model_name": "DescriptionStyleModel",
            "_view_count": null,
            "_view_module": "@jupyter-widgets/base",
            "_view_module_version": "1.2.0",
            "_view_name": "StyleView",
            "description_width": ""
          }
        },
        "ed65c175610c4aec954ae2521efcd24e": {
          "model_module": "@jupyter-widgets/controls",
          "model_name": "HBoxModel",
          "model_module_version": "1.5.0",
          "state": {
            "_dom_classes": [],
            "_model_module": "@jupyter-widgets/controls",
            "_model_module_version": "1.5.0",
            "_model_name": "HBoxModel",
            "_view_count": null,
            "_view_module": "@jupyter-widgets/controls",
            "_view_module_version": "1.5.0",
            "_view_name": "HBoxView",
            "box_style": "",
            "children": [
              "IPY_MODEL_9e5efe4aeb9c4d8d9853c734985c70ff",
              "IPY_MODEL_57a76353b0d94cc0be91610718eb7291",
              "IPY_MODEL_8c6bf69d0b7141948b83af2f64082d41"
            ],
            "layout": "IPY_MODEL_a755076b8f1c492ea69c9a444618aa48"
          }
        },
        "9e5efe4aeb9c4d8d9853c734985c70ff": {
          "model_module": "@jupyter-widgets/controls",
          "model_name": "HTMLModel",
          "model_module_version": "1.5.0",
          "state": {
            "_dom_classes": [],
            "_model_module": "@jupyter-widgets/controls",
            "_model_module_version": "1.5.0",
            "_model_name": "HTMLModel",
            "_view_count": null,
            "_view_module": "@jupyter-widgets/controls",
            "_view_module_version": "1.5.0",
            "_view_name": "HTMLView",
            "description": "",
            "description_tooltip": null,
            "layout": "IPY_MODEL_9f9e6a82a76f47e594cc61282e585355",
            "placeholder": "​",
            "style": "IPY_MODEL_3aec08bf398a402d824d809665bc716d",
            "value": "100%"
          }
        },
        "57a76353b0d94cc0be91610718eb7291": {
          "model_module": "@jupyter-widgets/controls",
          "model_name": "FloatProgressModel",
          "model_module_version": "1.5.0",
          "state": {
            "_dom_classes": [],
            "_model_module": "@jupyter-widgets/controls",
            "_model_module_version": "1.5.0",
            "_model_name": "FloatProgressModel",
            "_view_count": null,
            "_view_module": "@jupyter-widgets/controls",
            "_view_module_version": "1.5.0",
            "_view_name": "ProgressView",
            "bar_style": "success",
            "description": "",
            "description_tooltip": null,
            "layout": "IPY_MODEL_732b89d00ec74029b9b11534f2402fae",
            "max": 113,
            "min": 0,
            "orientation": "horizontal",
            "style": "IPY_MODEL_57e7e89eb9a6441db5959ce19ff39981",
            "value": 113
          }
        },
        "8c6bf69d0b7141948b83af2f64082d41": {
          "model_module": "@jupyter-widgets/controls",
          "model_name": "HTMLModel",
          "model_module_version": "1.5.0",
          "state": {
            "_dom_classes": [],
            "_model_module": "@jupyter-widgets/controls",
            "_model_module_version": "1.5.0",
            "_model_name": "HTMLModel",
            "_view_count": null,
            "_view_module": "@jupyter-widgets/controls",
            "_view_module_version": "1.5.0",
            "_view_name": "HTMLView",
            "description": "",
            "description_tooltip": null,
            "layout": "IPY_MODEL_a54a514fc3c54c26bed7c99868ef60bb",
            "placeholder": "​",
            "style": "IPY_MODEL_8b08168639cf4d2e8677ce6c763104dd",
            "value": " 113/113 [00:05&lt;00:00, 22.06it/s]"
          }
        },
        "a755076b8f1c492ea69c9a444618aa48": {
          "model_module": "@jupyter-widgets/base",
          "model_name": "LayoutModel",
          "model_module_version": "1.2.0",
          "state": {
            "_model_module": "@jupyter-widgets/base",
            "_model_module_version": "1.2.0",
            "_model_name": "LayoutModel",
            "_view_count": null,
            "_view_module": "@jupyter-widgets/base",
            "_view_module_version": "1.2.0",
            "_view_name": "LayoutView",
            "align_content": null,
            "align_items": null,
            "align_self": null,
            "border": null,
            "bottom": null,
            "display": null,
            "flex": null,
            "flex_flow": null,
            "grid_area": null,
            "grid_auto_columns": null,
            "grid_auto_flow": null,
            "grid_auto_rows": null,
            "grid_column": null,
            "grid_gap": null,
            "grid_row": null,
            "grid_template_areas": null,
            "grid_template_columns": null,
            "grid_template_rows": null,
            "height": null,
            "justify_content": null,
            "justify_items": null,
            "left": null,
            "margin": null,
            "max_height": null,
            "max_width": null,
            "min_height": null,
            "min_width": null,
            "object_fit": null,
            "object_position": null,
            "order": null,
            "overflow": null,
            "overflow_x": null,
            "overflow_y": null,
            "padding": null,
            "right": null,
            "top": null,
            "visibility": null,
            "width": null
          }
        },
        "9f9e6a82a76f47e594cc61282e585355": {
          "model_module": "@jupyter-widgets/base",
          "model_name": "LayoutModel",
          "model_module_version": "1.2.0",
          "state": {
            "_model_module": "@jupyter-widgets/base",
            "_model_module_version": "1.2.0",
            "_model_name": "LayoutModel",
            "_view_count": null,
            "_view_module": "@jupyter-widgets/base",
            "_view_module_version": "1.2.0",
            "_view_name": "LayoutView",
            "align_content": null,
            "align_items": null,
            "align_self": null,
            "border": null,
            "bottom": null,
            "display": null,
            "flex": null,
            "flex_flow": null,
            "grid_area": null,
            "grid_auto_columns": null,
            "grid_auto_flow": null,
            "grid_auto_rows": null,
            "grid_column": null,
            "grid_gap": null,
            "grid_row": null,
            "grid_template_areas": null,
            "grid_template_columns": null,
            "grid_template_rows": null,
            "height": null,
            "justify_content": null,
            "justify_items": null,
            "left": null,
            "margin": null,
            "max_height": null,
            "max_width": null,
            "min_height": null,
            "min_width": null,
            "object_fit": null,
            "object_position": null,
            "order": null,
            "overflow": null,
            "overflow_x": null,
            "overflow_y": null,
            "padding": null,
            "right": null,
            "top": null,
            "visibility": null,
            "width": null
          }
        },
        "3aec08bf398a402d824d809665bc716d": {
          "model_module": "@jupyter-widgets/controls",
          "model_name": "DescriptionStyleModel",
          "model_module_version": "1.5.0",
          "state": {
            "_model_module": "@jupyter-widgets/controls",
            "_model_module_version": "1.5.0",
            "_model_name": "DescriptionStyleModel",
            "_view_count": null,
            "_view_module": "@jupyter-widgets/base",
            "_view_module_version": "1.2.0",
            "_view_name": "StyleView",
            "description_width": ""
          }
        },
        "732b89d00ec74029b9b11534f2402fae": {
          "model_module": "@jupyter-widgets/base",
          "model_name": "LayoutModel",
          "model_module_version": "1.2.0",
          "state": {
            "_model_module": "@jupyter-widgets/base",
            "_model_module_version": "1.2.0",
            "_model_name": "LayoutModel",
            "_view_count": null,
            "_view_module": "@jupyter-widgets/base",
            "_view_module_version": "1.2.0",
            "_view_name": "LayoutView",
            "align_content": null,
            "align_items": null,
            "align_self": null,
            "border": null,
            "bottom": null,
            "display": null,
            "flex": null,
            "flex_flow": null,
            "grid_area": null,
            "grid_auto_columns": null,
            "grid_auto_flow": null,
            "grid_auto_rows": null,
            "grid_column": null,
            "grid_gap": null,
            "grid_row": null,
            "grid_template_areas": null,
            "grid_template_columns": null,
            "grid_template_rows": null,
            "height": null,
            "justify_content": null,
            "justify_items": null,
            "left": null,
            "margin": null,
            "max_height": null,
            "max_width": null,
            "min_height": null,
            "min_width": null,
            "object_fit": null,
            "object_position": null,
            "order": null,
            "overflow": null,
            "overflow_x": null,
            "overflow_y": null,
            "padding": null,
            "right": null,
            "top": null,
            "visibility": null,
            "width": null
          }
        },
        "57e7e89eb9a6441db5959ce19ff39981": {
          "model_module": "@jupyter-widgets/controls",
          "model_name": "ProgressStyleModel",
          "model_module_version": "1.5.0",
          "state": {
            "_model_module": "@jupyter-widgets/controls",
            "_model_module_version": "1.5.0",
            "_model_name": "ProgressStyleModel",
            "_view_count": null,
            "_view_module": "@jupyter-widgets/base",
            "_view_module_version": "1.2.0",
            "_view_name": "StyleView",
            "bar_color": null,
            "description_width": ""
          }
        },
        "a54a514fc3c54c26bed7c99868ef60bb": {
          "model_module": "@jupyter-widgets/base",
          "model_name": "LayoutModel",
          "model_module_version": "1.2.0",
          "state": {
            "_model_module": "@jupyter-widgets/base",
            "_model_module_version": "1.2.0",
            "_model_name": "LayoutModel",
            "_view_count": null,
            "_view_module": "@jupyter-widgets/base",
            "_view_module_version": "1.2.0",
            "_view_name": "LayoutView",
            "align_content": null,
            "align_items": null,
            "align_self": null,
            "border": null,
            "bottom": null,
            "display": null,
            "flex": null,
            "flex_flow": null,
            "grid_area": null,
            "grid_auto_columns": null,
            "grid_auto_flow": null,
            "grid_auto_rows": null,
            "grid_column": null,
            "grid_gap": null,
            "grid_row": null,
            "grid_template_areas": null,
            "grid_template_columns": null,
            "grid_template_rows": null,
            "height": null,
            "justify_content": null,
            "justify_items": null,
            "left": null,
            "margin": null,
            "max_height": null,
            "max_width": null,
            "min_height": null,
            "min_width": null,
            "object_fit": null,
            "object_position": null,
            "order": null,
            "overflow": null,
            "overflow_x": null,
            "overflow_y": null,
            "padding": null,
            "right": null,
            "top": null,
            "visibility": null,
            "width": null
          }
        },
        "8b08168639cf4d2e8677ce6c763104dd": {
          "model_module": "@jupyter-widgets/controls",
          "model_name": "DescriptionStyleModel",
          "model_module_version": "1.5.0",
          "state": {
            "_model_module": "@jupyter-widgets/controls",
            "_model_module_version": "1.5.0",
            "_model_name": "DescriptionStyleModel",
            "_view_count": null,
            "_view_module": "@jupyter-widgets/base",
            "_view_module_version": "1.2.0",
            "_view_name": "StyleView",
            "description_width": ""
          }
        }
      }
    }
  },
  "cells": [
    {
      "cell_type": "markdown",
      "source": [
        "# 1. Loading the dataset"
      ],
      "metadata": {
        "id": "bcx23tAeZ8wI"
      }
    },
    {
      "cell_type": "code",
      "execution_count": 127,
      "metadata": {
        "id": "jmeLM3QoQm4V",
        "colab": {
          "base_uri": "https://localhost:8080/"
        },
        "outputId": "0590f7b4-e1cd-452d-ac1c-af6e0e76de9b"
      },
      "outputs": [
        {
          "output_type": "stream",
          "name": "stdout",
          "text": [
            "dataset already exists, skipping download ...\n"
          ]
        }
      ],
      "source": [
        "from pathlib import Path\n",
        "\n",
        "# Download dataset if it doesn't already exists\n",
        "if Path(\"/content/dataset\").exists():\n",
        "  print(\"dataset already exists, skipping download ...\")\n",
        "else:\n",
        "  # Step 1: Mount Google Drive\n",
        "  from google.colab import drive\n",
        "  drive.mount('/content/drive')\n",
        "\n",
        "  # Step 2: Define the path to your dataset\n",
        "  dataset_path = '/content/drive/My Drive/archive.zip'\n",
        "\n",
        "  # Step 3: Unzip the dataset\n",
        "  import zipfile\n",
        "  import os\n",
        "\n",
        "  with zipfile.ZipFile(dataset_path, 'r') as zip_ref:\n",
        "      zip_ref.extractall('dataset')\n",
        "\n",
        "  # Verify extraction\n",
        "  os.listdir('dataset')\n"
      ]
    },
    {
      "cell_type": "markdown",
      "source": [
        "# 2. Defining data Transforms"
      ],
      "metadata": {
        "id": "v15Np-3SaCOH"
      }
    },
    {
      "cell_type": "code",
      "source": [
        "from torchvision import transforms, datasets\n",
        "\n",
        "data_transforms = transforms.Compose([\n",
        "    transforms.Grayscale(),\n",
        "    transforms.ToTensor(),\n",
        "    transforms.Normalize(mean=[0.5],std=[0.5])\n",
        "    ])\n",
        "\n",
        "data_transforms"
      ],
      "metadata": {
        "colab": {
          "base_uri": "https://localhost:8080/"
        },
        "id": "R34-ATSRYevY",
        "outputId": "a10e60c9-f9b1-418e-c072-a58b336b7bd4"
      },
      "execution_count": 128,
      "outputs": [
        {
          "output_type": "execute_result",
          "data": {
            "text/plain": [
              "Compose(\n",
              "    Grayscale(num_output_channels=1)\n",
              "    ToTensor()\n",
              "    Normalize(mean=[0.5], std=[0.5])\n",
              ")"
            ]
          },
          "metadata": {},
          "execution_count": 128
        }
      ]
    },
    {
      "cell_type": "markdown",
      "source": [
        "# 3. Extracting train and test dataset and applying transform on them"
      ],
      "metadata": {
        "id": "gpKsulW6aL75"
      }
    },
    {
      "cell_type": "code",
      "source": [
        "train_dataset = datasets.ImageFolder(root='dataset/train', transform=data_transforms)\n",
        "test_dataset = datasets.ImageFolder(root='dataset/test', transform=data_transforms)\n",
        "\n",
        "total_dataset_length=len(train_dataset)+len(test_dataset)\n",
        "total_dataset_length, len(train_dataset), len(test_dataset)"
      ],
      "metadata": {
        "colab": {
          "base_uri": "https://localhost:8080/"
        },
        "id": "AZQCUNHqZI7X",
        "outputId": "2644c114-4bf5-45b0-f44e-9fd7c921ff3f"
      },
      "execution_count": 129,
      "outputs": [
        {
          "output_type": "execute_result",
          "data": {
            "text/plain": [
              "(35887, 28709, 7178)"
            ]
          },
          "metadata": {},
          "execution_count": 129
        }
      ]
    },
    {
      "cell_type": "code",
      "source": [
        "# Split data into traning data into training data and validation data\n",
        "import torch\n",
        "from torch.utils.data import random_split\n",
        "\n",
        "train_size = int(0.7 * total_dataset_length)\n",
        "val_size = len(train_dataset) - train_size\n",
        "train_dataset, val_dataset = random_split(train_dataset, [train_size, val_size])\n",
        "\n",
        "print(f\"Training dataset ratio: {len(train_dataset)/total_dataset_length}\")\n",
        "print(f\"Validation dataset ratio: {len(val_dataset)/total_dataset_length}\")\n",
        "print(f\"Test dataset ratio: {len(test_dataset)/total_dataset_length}\")\n",
        "\n",
        "\n"
      ],
      "metadata": {
        "colab": {
          "base_uri": "https://localhost:8080/"
        },
        "id": "wvnr5KsYZjOc",
        "outputId": "c037c7b7-1b49-41cc-e40a-5eea2f9cd99e"
      },
      "execution_count": 130,
      "outputs": [
        {
          "output_type": "stream",
          "name": "stdout",
          "text": [
            "Training dataset ratio: 0.6999749212806866\n",
            "Validation dataset ratio: 0.10000835957310447\n",
            "Test dataset ratio: 0.20001671914620894\n"
          ]
        }
      ]
    },
    {
      "cell_type": "code",
      "source": [
        "# Trying to understand the dataset\n",
        "X_train,y_train=train_dataset[4]\n",
        "\n",
        "X_train.shape,y_train"
      ],
      "metadata": {
        "colab": {
          "base_uri": "https://localhost:8080/"
        },
        "id": "FRVKb7r5hxCb",
        "outputId": "3c2ac884-1f4c-4819-e663-87e067c70308"
      },
      "execution_count": 131,
      "outputs": [
        {
          "output_type": "execute_result",
          "data": {
            "text/plain": [
              "(torch.Size([1, 48, 48]), 1)"
            ]
          },
          "metadata": {},
          "execution_count": 131
        }
      ]
    },
    {
      "cell_type": "code",
      "source": [
        "#Visualizing our data\n",
        "\n",
        "import matplotlib.pyplot as plt\n",
        "plt.imshow(X_train.squeeze(), cmap=\"gray\")\n",
        "plt.title(y_train)"
      ],
      "metadata": {
        "colab": {
          "base_uri": "https://localhost:8080/",
          "height": 469
        },
        "id": "q5AMeqlojQzK",
        "outputId": "ef9a9e01-11fe-448c-d491-8612ff144b68"
      },
      "execution_count": 132,
      "outputs": [
        {
          "output_type": "execute_result",
          "data": {
            "text/plain": [
              "Text(0.5, 1.0, '1')"
            ]
          },
          "metadata": {},
          "execution_count": 132
        },
        {
          "output_type": "display_data",
          "data": {
            "text/plain": [
              "<Figure size 640x480 with 1 Axes>"
            ],
            "image/png": "[encoded data removed]"
          },
          "metadata": {}
        }
      ]
    },
    {
      "cell_type": "code",
      "source": [
        "#Plot more images\n",
        "torch.manual_seed(42)\n",
        "emotions = ['Angry', 'Disgust', 'Fear', 'Happy', 'Sad', 'Surprise', 'Neutral']\n",
        "fig=plt.figure(figsize=(9,9))\n",
        "\n",
        "rows,cols=4,4\n",
        "for i in range(1,rows*cols+1):\n",
        "  random_idx=torch.randint(0,len(train_dataset),size=[1]).item()\n",
        "  X_train,y_train=train_dataset[random_idx]\n",
        "  fig.add_subplot(rows,cols,i)\n",
        "  plt.imshow(X_train.squeeze(),cmap=\"gray\")\n",
        "  plt.title(emotions[y_train])\n",
        "  plt.axis(False)"
      ],
      "metadata": {
        "colab": {
          "base_uri": "https://localhost:8080/",
          "height": 679
        },
        "id": "Qo7tfd26kEQc",
        "outputId": "393bd1dd-f99d-4246-bd3a-13ba922b01c8"
      },
      "execution_count": 133,
      "outputs": [
        {
          "output_type": "display_data",
          "data": {
            "text/plain": [
              "<Figure size 900x900 with 16 Axes>"
            ],
            "image/png": "[encoded data removed]"
          },
          "metadata": {}
        }
      ]
    },
    {
      "cell_type": "code",
      "source": [
        "# Create DataLoaders\n",
        "from torch.utils.data import DataLoader\n",
        "\n",
        "train_dataloader = DataLoader(train_dataset, batch_size=64, shuffle=True)\n",
        "val_dataloader = DataLoader(val_dataset, batch_size=64, shuffle=False)\n",
        "test_dataloader = DataLoader(test_dataset, batch_size=64, shuffle=False)\n",
        "\n",
        "train_dataloader\n"
      ],
      "metadata": {
        "colab": {
          "base_uri": "https://localhost:8080/"
        },
        "id": "r24kwEvWZo-y",
        "outputId": "03064efe-706e-457c-9bab-9eae0638fc84"
      },
      "execution_count": 134,
      "outputs": [
        {
          "output_type": "execute_result",
          "data": {
            "text/plain": [
              "<torch.utils.data.dataloader.DataLoader at 0x7b26135e07f0>"
            ]
          },
          "metadata": {},
          "execution_count": 134
        }
      ]
    },
    {
      "cell_type": "code",
      "source": [
        "# Feature batches and labels\n",
        "\n",
        "train_features_batch,train_labels_batch=next(iter(train_dataloader))\n",
        "train_features_batch.shape,train_labels_batch.shape"
      ],
      "metadata": {
        "colab": {
          "base_uri": "https://localhost:8080/"
        },
        "id": "TaLr7cZdadQQ",
        "outputId": "8e06935e-40e9-4553-cc4d-d44c67e73650"
      },
      "execution_count": 135,
      "outputs": [
        {
          "output_type": "execute_result",
          "data": {
            "text/plain": [
              "(torch.Size([64, 1, 48, 48]), torch.Size([64]))"
            ]
          },
          "metadata": {},
          "execution_count": 135
        }
      ]
    },
    {
      "cell_type": "code",
      "source": [
        "#Importing a helper function\n",
        "import requests\n",
        "from pathlib import Path\n",
        "\n",
        "#Download helper functions from Learn PyTorch repo\n",
        "\n",
        "if Path(\"helper_functions.py\").is_file():\n",
        "  print(\"helper_functions.py already exists, skipping download ...\")\n",
        "else:\n",
        "  print(\"Downloading helper_functions.py\")\n",
        "  request=requests.get(\"https://raw.githubusercontent.com/mrdbourke/pytorch-deep-learning/main/helper_functions.py\")\n",
        "  with open(\"helper_functions.py\", \"wb\") as f:\n",
        "    f.write(request.content)"
      ],
      "metadata": {
        "colab": {
          "base_uri": "https://localhost:8080/"
        },
        "id": "7H70uD_7mjAe",
        "outputId": "bf9ae808-9829-42f5-e5f3-4a10b22c5438"
      },
      "execution_count": 136,
      "outputs": [
        {
          "output_type": "stream",
          "name": "stdout",
          "text": [
            "helper_functions.py already exists, skipping download ...\n"
          ]
        }
      ]
    },
    {
      "cell_type": "code",
      "source": [
        "device=\"cude\" if torch.cuda.is_available() else \"cpu\"\n",
        "device"
      ],
      "metadata": {
        "colab": {
          "base_uri": "https://localhost:8080/",
          "height": 36
        },
        "id": "v0xK40nNm16-",
        "outputId": "af8eef85-c861-4c83-8495-8d153a700710"
      },
      "execution_count": 137,
      "outputs": [
        {
          "output_type": "execute_result",
          "data": {
            "text/plain": [
              "'cpu'"
            ],
            "application/vnd.google.colaboratory.intrinsic+json": {
              "type": "string"
            }
          },
          "metadata": {},
          "execution_count": 137
        }
      ]
    },
    {
      "cell_type": "code",
      "source": [
        "# Write a eval function to evaluate models\n",
        "\n",
        "from tqdm.auto import tqdm\n",
        "\n",
        "torch.manual_seed(42)\n",
        "\n",
        "def eval_model( model : torch.nn.Module,\n",
        "              data_loader:torch.utils.data.DataLoader,\n",
        "               loss_fn: torch.nn.Module,\n",
        "               accuracy_fn,\n",
        "              device : torch.device=device):\n",
        "  \"\"\"Returns a dictionary containing the results of model predicting on data_loader.\"\"\"\n",
        "  loss,acc=0,0\n",
        "  model.eval()\n",
        "  with torch.inference_mode():\n",
        "    for X,y in tqdm(data_loader):\n",
        "      X,y=X.to(device), y.to(device)\n",
        "      #Make predictions\n",
        "      y_pred=model(X)\n",
        "\n",
        "      #Accumulate the loss and acc values per batch\n",
        "      loss+=loss_fn(y_pred,y)\n",
        "      acc+=accuracy_fn(y_true=y, y_pred=y_pred.argmax(dim=1))\n",
        "\n",
        "    #Scale loss and acc to find the avg loss/acc per batch\n",
        "    loss/=len(data_loader)\n",
        "    acc/=len(data_loader)\n",
        "\n",
        "  return {\n",
        "      \"model_name\": model.__class__.__name__, #only works when model was created with class\n",
        "      \"model_loss\": loss.item(),\n",
        "      \"model_acc\": acc}"
      ],
      "metadata": {
        "id": "UR1EQqI8mDRa"
      },
      "execution_count": 138,
      "outputs": []
    },
    {
      "cell_type": "code",
      "source": [
        "# Write a function for train_step\n",
        "\n",
        "def train_step(model : torch.nn.Module,\n",
        "               data_loader: torch.utils.data.DataLoader,\n",
        "               loss_fn: torch.nn.Module,\n",
        "               optimizer: torch.optim.Optimizer,\n",
        "               accuracy_fn,\n",
        "               device: torch.device=device):\n",
        "  \"\"\"Performs a training with model trying to learn on data_loader.\"\"\"\n",
        "\n",
        "  train_loss, train_acc=0,0\n",
        "\n",
        "  model.train()\n",
        "  #Add a loop to loop through the training batches\n",
        "  for batch, (X,y) in enumerate(data_loader):\n",
        "    #Put data on target device\n",
        "    X,y=X.to(device), y.to(device)\n",
        "\n",
        "    #1. Forward pass\n",
        "    y_pred=model(X)\n",
        "\n",
        "    #2 Calculate loss and accuracy (per batch)\n",
        "    loss=loss_fn(y_pred,y)\n",
        "    train_loss+=loss\n",
        "    train_acc+=accuracy_fn(y_true=y, y_pred=y_pred.argmax(dim=1))\n",
        "\n",
        "    # 3. Optimizer zero grad\n",
        "    optimizer.zero_grad()\n",
        "\n",
        "    # 4. Loss backward\n",
        "    loss.backward()\n",
        "\n",
        "    # 5. Optimizer step\n",
        "    optimizer.step()\n",
        "\n",
        "  #Divice total train loss and acc by length of data loader\n",
        "  train_loss/=len(data_loader)\n",
        "  train_acc/=len(data_loader)\n",
        "\n",
        "\n",
        "  print(f\"\\nTrain loss : {train_loss:.5f} |  Train acc: {train_acc:.2f}%\")"
      ],
      "metadata": {
        "id": "AAvrn5VsnIgH"
      },
      "execution_count": 139,
      "outputs": []
    },
    {
      "cell_type": "code",
      "source": [
        "# Write a function for test step\n",
        "\n",
        "def test_step(model : torch.nn.Module,\n",
        "              data_loader : torch.utils.data.DataLoader,\n",
        "              loss_fn: torch.nn.Module,\n",
        "              accuracy_fn,\n",
        "              device: torch.device = device):\n",
        "\n",
        "  test_loss, test_acc=0,0\n",
        "\n",
        "  model.eval()\n",
        "\n",
        "  with torch.inference_mode():\n",
        "    for batch,(X,y) in enumerate(data_loader):\n",
        "      X,y=X.to(device), y.to(device)\n",
        "\n",
        "      # 1. Forward Pass\n",
        "      y_test_pred=model(X)\n",
        "\n",
        "      # 2. Loss and accuracy\n",
        "      test_loss+=loss_fn(y_test_pred,y)\n",
        "      test_acc+=accuracy_fn(y_true=y, y_pred=y_test_pred.argmax(dim=1))\n",
        "\n",
        "    #Calculating average\n",
        "    test_loss/=len(data_loader)\n",
        "    test_acc/=len(data_loader)\n",
        "\n",
        "  print(f\"\\nTest loss : {test_loss:.5f} |  Test acc: {test_acc:.2f}%\")"
      ],
      "metadata": {
        "id": "D9UVSlKTnX8J"
      },
      "execution_count": 140,
      "outputs": []
    },
    {
      "cell_type": "code",
      "source": [
        "# Building a LSTM class for our model\n",
        "\n",
        "import torch\n",
        "import torch.nn as nn\n",
        "\n",
        "class LSTMModel(nn.Module):\n",
        "    def __init__(self, input_size, hidden_size, num_layers, num_classes):\n",
        "        super(LSTMModel, self).__init__()\n",
        "        self.hidden_size = hidden_size\n",
        "        self.num_layers = num_layers\n",
        "        self.lstm = nn.LSTM(input_size, hidden_size, num_layers, batch_first=True)\n",
        "        self.fc = nn.Linear(hidden_size, num_classes)\n",
        "\n",
        "    def forward(self, x):\n",
        "        # x is expected to have dimensions (batch_size, input_size)\n",
        "        batch_size = x.size(0)\n",
        "        x = x.view(batch_size, 1, -1)  # Reshape to (batch_size, seq_len=1, input_size)\n",
        "        h0 = torch.zeros(self.num_layers, x.size(0), self.hidden_size).to(x.device)\n",
        "        c0 = torch.zeros(self.num_layers, x.size(0), self.hidden_size).to(x.device)\n",
        "        out, _ = self.lstm(x, (h0, c0))\n",
        "        out = self.fc(out[:, -1, :])\n",
        "        return out\n",
        "\n",
        "model_0=LSTMModel(input_size=48*48, hidden_size=128, num_layers=2, num_classes=len(emotions)).to(device)\n",
        "\n",
        "model_0\n"
      ],
      "metadata": {
        "colab": {
          "base_uri": "https://localhost:8080/"
        },
        "id": "lxL04YKknkpN",
        "outputId": "488150fa-590d-41c9-937b-462a291e50ac"
      },
      "execution_count": 141,
      "outputs": [
        {
          "output_type": "execute_result",
          "data": {
            "text/plain": [
              "LSTMModel(\n",
              "  (lstm): LSTM(2304, 128, num_layers=2, batch_first=True)\n",
              "  (fc): Linear(in_features=128, out_features=7, bias=True)\n",
              ")"
            ]
          },
          "metadata": {},
          "execution_count": 141
        }
      ]
    },
    {
      "cell_type": "code",
      "source": [
        "# Optimizer and loss func\n",
        "from helper_functions import accuracy_fn\n",
        "loss_fn = nn.CrossEntropyLoss()\n",
        "optimizer = torch.optim.Adam(model_0.parameters(), lr=0.001)"
      ],
      "metadata": {
        "id": "VreuwnxGnzNu"
      },
      "execution_count": 142,
      "outputs": []
    },
    {
      "cell_type": "code",
      "source": [
        "torch.manual_seed(42)\n",
        "epochs=3\n",
        "\n",
        "for epoch in tqdm(range(epochs)):\n",
        "  print(f\"Epoch {epoch} \\n --------\")\n",
        "  train_step(model= model_0,\n",
        "             data_loader=train_dataloader,\n",
        "             loss_fn=loss_fn,\n",
        "             optimizer=optimizer,\n",
        "             accuracy_fn=accuracy_fn,\n",
        "             device=\"cpu\")\n",
        "  test_step(model= model_0,\n",
        "             data_loader=test_dataloader,\n",
        "             loss_fn=loss_fn,\n",
        "             accuracy_fn=accuracy_fn,\n",
        "             device=\"cpu\")\n"
      ],
      "metadata": {
        "colab": {
          "base_uri": "https://localhost:8080/",
          "height": 361,
          "referenced_widgets": [
            "b8fdd33f1abe46a6b142a3942b8913e6",
            "77968c6a012146589bca9017896599a3",
            "b921b533aa4b4a01b7c4d5586174a08a",
            "8333bf9e1f18406c9c47bd69bcb71810",
            "62dbdefbeaa64bcd8cc5575ca94c66b2",
            "70beb17b7ac24e8081600dcec232e422",
            "0bc9b979507a4552ac5baf5e323f0ce0",
            "33e3e32777604a64805cffa1f9f68e8c",
            "379e6a3bde364fcfb12871e32b0e39af",
            "05edd7ce307d4574b8cc4cfdf98593ab",
            "c84acdbbcdb24a90b22033a1a73402b0"
          ]
        },
        "id": "bSoQ2zA-obaW",
        "outputId": "d236ece5-2849-45f5-bcd7-b72f88c68fab"
      },
      "execution_count": 143,
      "outputs": [
        {
          "output_type": "display_data",
          "data": {
            "text/plain": [
              "  0%|          | 0/3 [00:00<?, ?it/s]"
            ],
            "application/vnd.jupyter.widget-view+json": {
              "version_major": 2,
              "version_minor": 0,
              "model_id": "b8fdd33f1abe46a6b142a3942b8913e6"
            }
          },
          "metadata": {}
        },
        {
          "output_type": "stream",
          "name": "stdout",
          "text": [
            "Epoch 0 \n",
            " --------\n",
            "\n",
            "Train loss : 1.68232 |  Train acc: 33.15%\n",
            "\n",
            "Test loss : 1.60924 |  Test acc: 37.18%\n",
            "Epoch 1 \n",
            " --------\n",
            "\n",
            "Train loss : 1.57040 |  Train acc: 38.75%\n",
            "\n",
            "Test loss : 1.56631 |  Test acc: 38.33%\n",
            "Epoch 2 \n",
            " --------\n",
            "\n",
            "Train loss : 1.50972 |  Train acc: 41.52%\n",
            "\n",
            "Test loss : 1.55850 |  Test acc: 39.07%\n"
          ]
        }
      ]
    },
    {
      "cell_type": "code",
      "source": [
        "model_0_results=eval_model(model=model_0,\n",
        "                           data_loader=test_dataloader,\n",
        "                           loss_fn=loss_fn,\n",
        "                           accuracy_fn=accuracy_fn,\n",
        "                           device=\"cpu\")\n",
        "\n",
        "model_0_results"
      ],
      "metadata": {
        "colab": {
          "base_uri": "https://localhost:8080/",
          "height": 101,
          "referenced_widgets": [
            "ed65c175610c4aec954ae2521efcd24e",
            "9e5efe4aeb9c4d8d9853c734985c70ff",
            "57a76353b0d94cc0be91610718eb7291",
            "8c6bf69d0b7141948b83af2f64082d41",
            "a755076b8f1c492ea69c9a444618aa48",
            "9f9e6a82a76f47e594cc61282e585355",
            "3aec08bf398a402d824d809665bc716d",
            "732b89d00ec74029b9b11534f2402fae",
            "57e7e89eb9a6441db5959ce19ff39981",
            "a54a514fc3c54c26bed7c99868ef60bb",
            "8b08168639cf4d2e8677ce6c763104dd"
          ]
        },
        "id": "2b9Wojcwwf_J",
        "outputId": "c63e7fe7-46c2-49ea-da39-8d05718c76fe"
      },
      "execution_count": 144,
      "outputs": [
        {
          "output_type": "display_data",
          "data": {
            "text/plain": [
              "  0%|          | 0/113 [00:00<?, ?it/s]"
            ],
            "application/vnd.jupyter.widget-view+json": {
              "version_major": 2,
              "version_minor": 0,
              "model_id": "ed65c175610c4aec954ae2521efcd24e"
            }
          },
          "metadata": {}
        },
        {
          "output_type": "execute_result",
          "data": {
            "text/plain": [
              "{'model_name': 'LSTMModel',\n",
              " 'model_loss': 1.5585044622421265,\n",
              " 'model_acc': 39.06803097345133}"
            ]
          },
          "metadata": {},
          "execution_count": 144
        }
      ]
    }
  ]
}