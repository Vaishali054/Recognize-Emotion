{
  "nbformat": 4,
  "nbformat_minor": 0,
  "metadata": {
    "colab": {
      "provenance": [],
      "authorship_tag": "ABX9TyM86rxTIvl4BwxOcaF8Q+AQ"
    },
    "kernelspec": {
      "name": "python3",
      "display_name": "Python 3"
    },
    "language_info": {
      "name": "python"
    }
  },
  "cells": [
    {
      "cell_type": "code",
      "execution_count": null,
      "metadata": {
        "id": "jmeLM3QoQm4V",
        "colab": {
          "base_uri": "https://localhost:8080/"
        },
        "outputId": "5c2dd283-719b-431b-994b-08b9ed7df67b"
      },
      "outputs": [
        {
          "output_type": "stream",
          "name": "stdout",
          "text": [
            "dataset already exists, skipping download ...\n"
          ]
        }
      ],
      "source": [
        "from pathlib import Path\n",
        "\n",
        "# Download dataset if it doesn't already exists\n",
        "if Path(\"/content/dataset\").exists():\n",
        "  print(\"dataset already exists, skipping download ...\")\n",
        "else:\n",
        "  # Step 1: Mount Google Drive\n",
        "  from google.colab import drive\n",
        "  drive.mount('/content/drive')\n",
        "\n",
        "  # Step 2: Define the path to your dataset\n",
        "  dataset_path = '/content/drive/My Drive/archive.zip'\n",
        "\n",
        "  # Step 3: Unzip the dataset\n",
        "  import zipfile\n",
        "  import os\n",
        "\n",
        "  with zipfile.ZipFile(dataset_path, 'r') as zip_ref:\n",
        "      zip_ref.extractall('dataset')\n",
        "\n",
        "  # Verify extraction\n",
        "  os.listdir('dataset')\n"
      ]
    }
  ]
}