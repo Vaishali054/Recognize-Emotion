{
  "nbformat": 4,
  "nbformat_minor": 0,
  "metadata": {
    "colab": {
      "provenance": [],
      "authorship_tag": "ABX9TyOy1CIHZsSX0PHx+y6u7bkL"
    },
    "kernelspec": {
      "name": "python3",
      "display_name": "Python 3"
    },
    "language_info": {
      "name": "python"
    },
    "widgets": {
      "application/vnd.jupyter.widget-state+json": {
        "e8b8cc48c2b541afb8826817f4adc57a": {
          "model_module": "@jupyter-widgets/controls",
          "model_name": "HBoxModel",
          "model_module_version": "1.5.0",
          "state": {
            "_dom_classes": [],
            "_model_module": "@jupyter-widgets/controls",
            "_model_module_version": "1.5.0",
            "_model_name": "HBoxModel",
            "_view_count": null,
            "_view_module": "@jupyter-widgets/controls",
            "_view_module_version": "1.5.0",
            "_view_name": "HBoxView",
            "box_style": "",
            "children": [
              "IPY_MODEL_106ea2d30780424199adfd258c8a5344",
              "IPY_MODEL_299ef9792b69438d9f8ae22576b6fab9",
              "IPY_MODEL_abb4a39a771a46bbb84cb3375bf3517e"
            ],
            "layout": "IPY_MODEL_7c17ddbff8974356b0b66271233ccea7"
          }
        },
        "106ea2d30780424199adfd258c8a5344": {
          "model_module": "@jupyter-widgets/controls",
          "model_name": "HTMLModel",
          "model_module_version": "1.5.0",
          "state": {
            "_dom_classes": [],
            "_model_module": "@jupyter-widgets/controls",
            "_model_module_version": "1.5.0",
            "_model_name": "HTMLModel",
            "_view_count": null,
            "_view_module": "@jupyter-widgets/controls",
            "_view_module_version": "1.5.0",
            "_view_name": "HTMLView",
            "description": "",
            "description_tooltip": null,
            "layout": "IPY_MODEL_ff5d9007116545a8bb1b02d7146cddb3",
            "placeholder": "​",
            "style": "IPY_MODEL_998286de93334ad4afb5be3af2ecc489",
            "value": "  4%"
          }
        },
        "299ef9792b69438d9f8ae22576b6fab9": {
          "model_module": "@jupyter-widgets/controls",
          "model_name": "FloatProgressModel",
          "model_module_version": "1.5.0",
          "state": {
            "_dom_classes": [],
            "_model_module": "@jupyter-widgets/controls",
            "_model_module_version": "1.5.0",
            "_model_name": "FloatProgressModel",
            "_view_count": null,
            "_view_module": "@jupyter-widgets/controls",
            "_view_module_version": "1.5.0",
            "_view_name": "ProgressView",
            "bar_style": "",
            "description": "",
            "description_tooltip": null,
            "layout": "IPY_MODEL_051a0fc057c44dda82fac8244bf3cc26",
            "max": 50,
            "min": 0,
            "orientation": "horizontal",
            "style": "IPY_MODEL_7a368527b77b401788c92fd97607ce17",
            "value": 2
          }
        },
        "abb4a39a771a46bbb84cb3375bf3517e": {
          "model_module": "@jupyter-widgets/controls",
          "model_name": "HTMLModel",
          "model_module_version": "1.5.0",
          "state": {
            "_dom_classes": [],
            "_model_module": "@jupyter-widgets/controls",
            "_model_module_version": "1.5.0",
            "_model_name": "HTMLModel",
            "_view_count": null,
            "_view_module": "@jupyter-widgets/controls",
            "_view_module_version": "1.5.0",
            "_view_name": "HTMLView",
            "description": "",
            "description_tooltip": null,
            "layout": "IPY_MODEL_b8317429a1f844c1a33a87a2d7d6fed0",
            "placeholder": "​",
            "style": "IPY_MODEL_3a15a02e4ab74fc9bc5f3d7657fe01b3",
            "value": " 2/50 [01:49&lt;43:47, 54.73s/it]"
          }
        },
        "7c17ddbff8974356b0b66271233ccea7": {
          "model_module": "@jupyter-widgets/base",
          "model_name": "LayoutModel",
          "model_module_version": "1.2.0",
          "state": {
            "_model_module": "@jupyter-widgets/base",
            "_model_module_version": "1.2.0",
            "_model_name": "LayoutModel",
            "_view_count": null,
            "_view_module": "@jupyter-widgets/base",
            "_view_module_version": "1.2.0",
            "_view_name": "LayoutView",
            "align_content": null,
            "align_items": null,
            "align_self": null,
            "border": null,
            "bottom": null,
            "display": null,
            "flex": null,
            "flex_flow": null,
            "grid_area": null,
            "grid_auto_columns": null,
            "grid_auto_flow": null,
            "grid_auto_rows": null,
            "grid_column": null,
            "grid_gap": null,
            "grid_row": null,
            "grid_template_areas": null,
            "grid_template_columns": null,
            "grid_template_rows": null,
            "height": null,
            "justify_content": null,
            "justify_items": null,
            "left": null,
            "margin": null,
            "max_height": null,
            "max_width": null,
            "min_height": null,
            "min_width": null,
            "object_fit": null,
            "object_position": null,
            "order": null,
            "overflow": null,
            "overflow_x": null,
            "overflow_y": null,
            "padding": null,
            "right": null,
            "top": null,
            "visibility": null,
            "width": null
          }
        },
        "ff5d9007116545a8bb1b02d7146cddb3": {
          "model_module": "@jupyter-widgets/base",
          "model_name": "LayoutModel",
          "model_module_version": "1.2.0",
          "state": {
            "_model_module": "@jupyter-widgets/base",
            "_model_module_version": "1.2.0",
            "_model_name": "LayoutModel",
            "_view_count": null,
            "_view_module": "@jupyter-widgets/base",
            "_view_module_version": "1.2.0",
            "_view_name": "LayoutView",
            "align_content": null,
            "align_items": null,
            "align_self": null,
            "border": null,
            "bottom": null,
            "display": null,
            "flex": null,
            "flex_flow": null,
            "grid_area": null,
            "grid_auto_columns": null,
            "grid_auto_flow": null,
            "grid_auto_rows": null,
            "grid_column": null,
            "grid_gap": null,
            "grid_row": null,
            "grid_template_areas": null,
            "grid_template_columns": null,
            "grid_template_rows": null,
            "height": null,
            "justify_content": null,
            "justify_items": null,
            "left": null,
            "margin": null,
            "max_height": null,
            "max_width": null,
            "min_height": null,
            "min_width": null,
            "object_fit": null,
            "object_position": null,
            "order": null,
            "overflow": null,
            "overflow_x": null,
            "overflow_y": null,
            "padding": null,
            "right": null,
            "top": null,
            "visibility": null,
            "width": null
          }
        },
        "998286de93334ad4afb5be3af2ecc489": {
          "model_module": "@jupyter-widgets/controls",
          "model_name": "DescriptionStyleModel",
          "model_module_version": "1.5.0",
          "state": {
            "_model_module": "@jupyter-widgets/controls",
            "_model_module_version": "1.5.0",
            "_model_name": "DescriptionStyleModel",
            "_view_count": null,
            "_view_module": "@jupyter-widgets/base",
            "_view_module_version": "1.2.0",
            "_view_name": "StyleView",
            "description_width": ""
          }
        },
        "051a0fc057c44dda82fac8244bf3cc26": {
          "model_module": "@jupyter-widgets/base",
          "model_name": "LayoutModel",
          "model_module_version": "1.2.0",
          "state": {
            "_model_module": "@jupyter-widgets/base",
            "_model_module_version": "1.2.0",
            "_model_name": "LayoutModel",
            "_view_count": null,
            "_view_module": "@jupyter-widgets/base",
            "_view_module_version": "1.2.0",
            "_view_name": "LayoutView",
            "align_content": null,
            "align_items": null,
            "align_self": null,
            "border": null,
            "bottom": null,
            "display": null,
            "flex": null,
            "flex_flow": null,
            "grid_area": null,
            "grid_auto_columns": null,
            "grid_auto_flow": null,
            "grid_auto_rows": null,
            "grid_column": null,
            "grid_gap": null,
            "grid_row": null,
            "grid_template_areas": null,
            "grid_template_columns": null,
            "grid_template_rows": null,
            "height": null,
            "justify_content": null,
            "justify_items": null,
            "left": null,
            "margin": null,
            "max_height": null,
            "max_width": null,
            "min_height": null,
            "min_width": null,
            "object_fit": null,
            "object_position": null,
            "order": null,
            "overflow": null,
            "overflow_x": null,
            "overflow_y": null,
            "padding": null,
            "right": null,
            "top": null,
            "visibility": null,
            "width": null
          }
        },
        "7a368527b77b401788c92fd97607ce17": {
          "model_module": "@jupyter-widgets/controls",
          "model_name": "ProgressStyleModel",
          "model_module_version": "1.5.0",
          "state": {
            "_model_module": "@jupyter-widgets/controls",
            "_model_module_version": "1.5.0",
            "_model_name": "ProgressStyleModel",
            "_view_count": null,
            "_view_module": "@jupyter-widgets/base",
            "_view_module_version": "1.2.0",
            "_view_name": "StyleView",
            "bar_color": null,
            "description_width": ""
          }
        },
        "b8317429a1f844c1a33a87a2d7d6fed0": {
          "model_module": "@jupyter-widgets/base",
          "model_name": "LayoutModel",
          "model_module_version": "1.2.0",
          "state": {
            "_model_module": "@jupyter-widgets/base",
            "_model_module_version": "1.2.0",
            "_model_name": "LayoutModel",
            "_view_count": null,
            "_view_module": "@jupyter-widgets/base",
            "_view_module_version": "1.2.0",
            "_view_name": "LayoutView",
            "align_content": null,
            "align_items": null,
            "align_self": null,
            "border": null,
            "bottom": null,
            "display": null,
            "flex": null,
            "flex_flow": null,
            "grid_area": null,
            "grid_auto_columns": null,
            "grid_auto_flow": null,
            "grid_auto_rows": null,
            "grid_column": null,
            "grid_gap": null,
            "grid_row": null,
            "grid_template_areas": null,
            "grid_template_columns": null,
            "grid_template_rows": null,
            "height": null,
            "justify_content": null,
            "justify_items": null,
            "left": null,
            "margin": null,
            "max_height": null,
            "max_width": null,
            "min_height": null,
            "min_width": null,
            "object_fit": null,
            "object_position": null,
            "order": null,
            "overflow": null,
            "overflow_x": null,
            "overflow_y": null,
            "padding": null,
            "right": null,
            "top": null,
            "visibility": null,
            "width": null
          }
        },
        "3a15a02e4ab74fc9bc5f3d7657fe01b3": {
          "model_module": "@jupyter-widgets/controls",
          "model_name": "DescriptionStyleModel",
          "model_module_version": "1.5.0",
          "state": {
            "_model_module": "@jupyter-widgets/controls",
            "_model_module_version": "1.5.0",
            "_model_name": "DescriptionStyleModel",
            "_view_count": null,
            "_view_module": "@jupyter-widgets/base",
            "_view_module_version": "1.2.0",
            "_view_name": "StyleView",
            "description_width": ""
          }
        }
      }
    }
  },
  "cells": [
    {
      "cell_type": "markdown",
      "source": [
        "# 1. Loading the dataset"
      ],
      "metadata": {
        "id": "bcx23tAeZ8wI"
      }
    },
    {
      "cell_type": "code",
      "execution_count": 29,
      "metadata": {
        "id": "jmeLM3QoQm4V",
        "colab": {
          "base_uri": "https://localhost:8080/"
        },
        "outputId": "d8a7083b-9739-4ff3-c8ea-fb9afd036e1c"
      },
      "outputs": [
        {
          "output_type": "stream",
          "name": "stdout",
          "text": [
            "dataset already exists, skipping download ...\n"
          ]
        }
      ],
      "source": [
        "from pathlib import Path\n",
        "\n",
        "# Download dataset if it doesn't already exists\n",
        "if Path(\"/content/dataset\").exists():\n",
        "  print(\"dataset already exists, skipping download ...\")\n",
        "else:\n",
        "  # Step 1: Mount Google Drive\n",
        "  from google.colab import drive\n",
        "  drive.mount('/content/drive')\n",
        "\n",
        "  # Step 2: Define the path to your dataset\n",
        "  dataset_path = '/content/drive/My Drive/archive.zip'\n",
        "\n",
        "  # Step 3: Unzip the dataset\n",
        "  import zipfile\n",
        "  import os\n",
        "\n",
        "  with zipfile.ZipFile(dataset_path, 'r') as zip_ref:\n",
        "      zip_ref.extractall('dataset')\n",
        "\n",
        "  # Verify extraction\n",
        "  os.listdir('dataset')\n"
      ]
    },
    {
      "cell_type": "markdown",
      "source": [
        "# 2. Defining data Transforms"
      ],
      "metadata": {
        "id": "v15Np-3SaCOH"
      }
    },
    {
      "cell_type": "code",
      "source": [
        "from torchvision import transforms, datasets\n",
        "\n",
        "data_transforms = transforms.Compose([\n",
        "    transforms.Grayscale(),\n",
        "    transforms.ToTensor(),\n",
        "    transforms.Normalize(mean=[0.5],std=[0.5])\n",
        "    ])\n",
        "\n",
        "data_transforms"
      ],
      "metadata": {
        "colab": {
          "base_uri": "https://localhost:8080/"
        },
        "id": "R34-ATSRYevY",
        "outputId": "36e52520-944c-4aea-e7ec-81f6e8131084"
      },
      "execution_count": 30,
      "outputs": [
        {
          "output_type": "execute_result",
          "data": {
            "text/plain": [
              "Compose(\n",
              "    Grayscale(num_output_channels=1)\n",
              "    ToTensor()\n",
              "    Normalize(mean=[0.5], std=[0.5])\n",
              ")"
            ]
          },
          "metadata": {},
          "execution_count": 30
        }
      ]
    },
    {
      "cell_type": "markdown",
      "source": [
        "# 3. Extracting train and test dataset and applying transform on them"
      ],
      "metadata": {
        "id": "gpKsulW6aL75"
      }
    },
    {
      "cell_type": "code",
      "source": [
        "train_dataset = datasets.ImageFolder(root='dataset/train', transform=data_transforms)\n",
        "test_dataset = datasets.ImageFolder(root='dataset/test', transform=data_transforms)\n",
        "\n",
        "total_dataset_length=len(train_dataset)+len(test_dataset)\n",
        "total_dataset_length, len(train_dataset), len(test_dataset)"
      ],
      "metadata": {
        "colab": {
          "base_uri": "https://localhost:8080/"
        },
        "id": "AZQCUNHqZI7X",
        "outputId": "3781168b-1eb7-4713-9ffe-d9d178cceb44"
      },
      "execution_count": 31,
      "outputs": [
        {
          "output_type": "execute_result",
          "data": {
            "text/plain": [
              "(35887, 28709, 7178)"
            ]
          },
          "metadata": {},
          "execution_count": 31
        }
      ]
    },
    {
      "cell_type": "code",
      "source": [
        "# Split data into traning data into training data and validation data\n",
        "import torch\n",
        "from torch.utils.data import random_split\n",
        "\n",
        "train_size = int(0.7 * total_dataset_length)\n",
        "val_size = len(train_dataset) - train_size\n",
        "train_dataset, val_dataset = random_split(train_dataset, [train_size, val_size])\n",
        "\n",
        "print(f\"Training dataset ratio: {len(train_dataset)/total_dataset_length}\")\n",
        "print(f\"Validation dataset ratio: {len(val_dataset)/total_dataset_length}\")\n",
        "print(f\"Test dataset ratio: {len(test_dataset)/total_dataset_length}\")\n",
        "\n",
        "\n"
      ],
      "metadata": {
        "colab": {
          "base_uri": "https://localhost:8080/"
        },
        "id": "wvnr5KsYZjOc",
        "outputId": "9f3c2d4f-60fd-47f5-f9e8-66a95373184d"
      },
      "execution_count": 32,
      "outputs": [
        {
          "output_type": "stream",
          "name": "stdout",
          "text": [
            "Training dataset ratio: 0.6999749212806866\n",
            "Validation dataset ratio: 0.10000835957310447\n",
            "Test dataset ratio: 0.20001671914620894\n"
          ]
        }
      ]
    },
    {
      "cell_type": "code",
      "source": [
        "# Trying to understand the dataset\n",
        "X_train,y_train=train_dataset[4]\n",
        "\n",
        "X_train.shape,y_train"
      ],
      "metadata": {
        "colab": {
          "base_uri": "https://localhost:8080/"
        },
        "id": "FRVKb7r5hxCb",
        "outputId": "8e569cec-e4c5-49d1-8a6e-04b8ddf9c2ba"
      },
      "execution_count": 56,
      "outputs": [
        {
          "output_type": "execute_result",
          "data": {
            "text/plain": [
              "(torch.Size([1, 48, 48]), 0)"
            ]
          },
          "metadata": {},
          "execution_count": 56
        }
      ]
    },
    {
      "cell_type": "code",
      "source": [
        "#Visualizing our data\n",
        "\n",
        "import matplotlib.pyplot as plt\n",
        "plt.imshow(X_train.squeeze(), cmap=\"gray\")\n",
        "plt.title(y_train)"
      ],
      "metadata": {
        "colab": {
          "base_uri": "https://localhost:8080/",
          "height": 469
        },
        "id": "q5AMeqlojQzK",
        "outputId": "54b49b01-cc15-4990-b1bc-2e858d183c68"
      },
      "execution_count": 59,
      "outputs": [
        {
          "output_type": "execute_result",
          "data": {
            "text/plain": [
              "Text(0.5, 1.0, '0')"
            ]
          },
          "metadata": {},
          "execution_count": 59
        },
        {
          "output_type": "display_data",
          "data": {
            "text/plain": [
              "<Figure size 640x480 with 1 Axes>"
            ],
            "image/png": "[encoded data removed]"
          },
          "metadata": {}
        }
      ]
    },
    {
      "cell_type": "code",
      "source": [
        "#Plot more images\n",
        "torch.manual_seed(42)\n",
        "emotions = ['Angry', 'Disgust', 'Fear', 'Happy', 'Sad', 'Surprise', 'Neutral']\n",
        "fig=plt.figure(figsize=(9,9))\n",
        "\n",
        "rows,cols=4,4\n",
        "for i in range(1,rows*cols+1):\n",
        "  random_idx=torch.randint(0,len(train_dataset),size=[1]).item()\n",
        "  X_train,y_train=train_dataset[random_idx]\n",
        "  fig.add_subplot(rows,cols,i)\n",
        "  plt.imshow(X_train.squeeze(),cmap=\"gray\")\n",
        "  plt.title(emotions[y_train])\n",
        "  plt.axis(False)"
      ],
      "metadata": {
        "colab": {
          "base_uri": "https://localhost:8080/",
          "height": 752
        },
        "id": "Qo7tfd26kEQc",
        "outputId": "fa1ec0d3-1162-42e7-c9c2-c75316a40554"
      },
      "execution_count": 60,
      "outputs": [
        {
          "output_type": "display_data",
          "data": {
            "text/plain": [
              "<Figure size 900x900 with 16 Axes>"
            ],
            "image/png": "[encoded data removed]"
          },
          "metadata": {}
        }
      ]
    },
    {
      "cell_type": "code",
      "source": [
        "# Create DataLoaders\n",
        "from torch.utils.data import DataLoader\n",
        "\n",
        "train_dataloader = DataLoader(train_dataset, batch_size=64, shuffle=True)\n",
        "val_dataloader = DataLoader(val_dataset, batch_size=64, shuffle=False)\n",
        "test_dataloader = DataLoader(test_dataset, batch_size=64, shuffle=False)\n",
        "\n",
        "train_dataloader\n"
      ],
      "metadata": {
        "colab": {
          "base_uri": "https://localhost:8080/"
        },
        "id": "r24kwEvWZo-y",
        "outputId": "b2ec7bc6-e6f7-4c21-883d-a942b95441b5"
      },
      "execution_count": 76,
      "outputs": [
        {
          "output_type": "execute_result",
          "data": {
            "text/plain": [
              "<torch.utils.data.dataloader.DataLoader at 0x7b261adedab0>"
            ]
          },
          "metadata": {},
          "execution_count": 76
        }
      ]
    },
    {
      "cell_type": "code",
      "source": [
        "# Feature batches and labels\n",
        "\n",
        "train_features_batch,train_labels_batch=next(iter(train_dataloader))\n",
        "train_features_batch.shape,train_labels_batch.shape"
      ],
      "metadata": {
        "colab": {
          "base_uri": "https://localhost:8080/"
        },
        "id": "TaLr7cZdadQQ",
        "outputId": "713618e1-22d2-403b-e23b-7418ab518bfa"
      },
      "execution_count": 62,
      "outputs": [
        {
          "output_type": "execute_result",
          "data": {
            "text/plain": [
              "(torch.Size([32, 1, 48, 48]), torch.Size([32]))"
            ]
          },
          "metadata": {},
          "execution_count": 62
        }
      ]
    },
    {
      "cell_type": "code",
      "source": [
        "#Importing a helper function\n",
        "import requests\n",
        "from pathlib import Path\n",
        "\n",
        "#Download helper functions from Learn PyTorch repo\n",
        "\n",
        "if Path(\"helper_functions.py\").is_file():\n",
        "  print(\"helper_functions.py already exists, skipping download ...\")\n",
        "else:\n",
        "  print(\"Downloading helper_functions.py\")\n",
        "  request=requests.get(\"https://raw.githubusercontent.com/mrdbourke/pytorch-deep-learning/main/helper_functions.py\")\n",
        "  with open(\"helper_functions.py\", \"wb\") as f:\n",
        "    f.write(request.content)"
      ],
      "metadata": {
        "colab": {
          "base_uri": "https://localhost:8080/"
        },
        "id": "7H70uD_7mjAe",
        "outputId": "0323bbfb-5e99-4ede-f50e-1f67147bf3fe"
      },
      "execution_count": 63,
      "outputs": [
        {
          "output_type": "stream",
          "name": "stdout",
          "text": [
            "Downloading helper_functions.py\n"
          ]
        }
      ]
    },
    {
      "cell_type": "code",
      "source": [
        "device=\"cude\" if torch.cuda.is_available() else \"cpu\"\n",
        "device"
      ],
      "metadata": {
        "colab": {
          "base_uri": "https://localhost:8080/",
          "height": 36
        },
        "id": "v0xK40nNm16-",
        "outputId": "4473c0fb-fc9a-449d-cb5c-c56f5dc9bfb9"
      },
      "execution_count": 65,
      "outputs": [
        {
          "output_type": "execute_result",
          "data": {
            "text/plain": [
              "'cpu'"
            ],
            "application/vnd.google.colaboratory.intrinsic+json": {
              "type": "string"
            }
          },
          "metadata": {},
          "execution_count": 65
        }
      ]
    },
    {
      "cell_type": "code",
      "source": [
        "# Write a eval function to evaluate models\n",
        "\n",
        "from tqdm.auto import tqdm\n",
        "\n",
        "torch.manual_seed(42)\n",
        "\n",
        "def eval_model( model : torch.nn.Module,\n",
        "              data_loader:torch.utils.data.DataLoader,\n",
        "               loss_fn: torch.nn.Module,\n",
        "               accuracy_fn,\n",
        "              device : torch.device=device):\n",
        "  \"\"\"Returns a dictionary containing the results of model predicting on data_loader.\"\"\"\n",
        "  loss,acc=0,0\n",
        "  model.eval()\n",
        "  with torch.inference_mode():\n",
        "    for X,y in tqdm(data_loader):\n",
        "      X,y=X.to(device), y.to(device)\n",
        "      #Make predictions\n",
        "      y_pred=model(X)\n",
        "\n",
        "      #Accumulate the loss and acc values per batch\n",
        "      loss+=loss_fn(y_pred,y)\n",
        "      acc+=accuracy_fn(y_true=y, y_pred=y_pred.argmax(dim=1))\n",
        "\n",
        "    #Scale loss and acc to find the avg loss/acc per batch\n",
        "    loss/=len(data_loader)\n",
        "    acc/=len(data_loader)\n",
        "\n",
        "  return {\n",
        "      \"model_name\": model.__class__.__name__, #only works when model was created with class\n",
        "      \"model_loss\": loss.item(),\n",
        "      \"model_acc\": acc}"
      ],
      "metadata": {
        "id": "UR1EQqI8mDRa"
      },
      "execution_count": 66,
      "outputs": []
    },
    {
      "cell_type": "code",
      "source": [
        "# Write a function for train_step\n",
        "\n",
        "def train_step(model : torch.nn.Module,\n",
        "               data_loader: torch.utils.data.DataLoader,\n",
        "               loss_fn: torch.nn.Module,\n",
        "               optimizer: torch.optim.Optimizer,\n",
        "               accuracy_fn,\n",
        "               device: torch.device=device):\n",
        "  \"\"\"Performs a training with model trying to learn on data_loader.\"\"\"\n",
        "\n",
        "  train_loss, train_acc=0,0\n",
        "\n",
        "  model.train()\n",
        "  #Add a loop to loop through the training batches\n",
        "  for batch, (X,y) in enumerate(data_loader):\n",
        "    #Put data on target device\n",
        "    X,y=X.to(device), y.to(device)\n",
        "\n",
        "    #1. Forward pass\n",
        "    y_pred=model(X)\n",
        "\n",
        "    #2 Calculate loss and accuracy (per batch)\n",
        "    loss=loss_fn(y_pred,y)\n",
        "    train_loss+=loss\n",
        "    train_acc+=accuracy_fn(y_true=y, y_pred=y_pred.argmax(dim=1))\n",
        "\n",
        "    # 3. Optimizer zero grad\n",
        "    optimizer.zero_grad()\n",
        "\n",
        "    # 4. Loss backward\n",
        "    loss.backward()\n",
        "\n",
        "    # 5. Optimizer step\n",
        "    optimizer.step()\n",
        "\n",
        "  #Divice total train loss and acc by length of data loader\n",
        "  train_loss/=len(data_loader)\n",
        "  train_acc/=len(data_loader)\n",
        "\n",
        "\n",
        "  print(f\"\\nTrain loss : {train_loss:.5f} |  Train acc: {train_acc:.2f}%\")"
      ],
      "metadata": {
        "id": "AAvrn5VsnIgH"
      },
      "execution_count": 67,
      "outputs": []
    },
    {
      "cell_type": "code",
      "source": [
        "# Write a function for test step\n",
        "\n",
        "def test_step(model : torch.nn.Module,\n",
        "              data_loader : torch.utils.data.DataLoader,\n",
        "              loss_fn: torch.nn.Module,\n",
        "              accuracy_fn,\n",
        "              device: torch.device = device):\n",
        "\n",
        "  test_loss, test_acc=0,0\n",
        "\n",
        "  model.eval()\n",
        "\n",
        "  with torch.inference_mode():\n",
        "    for batch,(X,y) in enumerate(data_loader):\n",
        "      X,y=X.to(device), y.to(device)\n",
        "\n",
        "      # 1. Forward Pass\n",
        "      y_test_pred=model(X)\n",
        "\n",
        "      # 2. Loss and accuracy\n",
        "      test_loss+=loss_fn(y_test_pred,y)\n",
        "      test_acc+=accuracy_fn(y_true=y, y_pred=y_test_pred.argmax(dim=1))\n",
        "\n",
        "    #Calculating average\n",
        "    test_loss/=len(data_loader)\n",
        "    test_acc/=len(data_loader)\n",
        "\n",
        "  print(f\"\\nTest loss : {test_loss:.5f} |  Test acc: {test_acc:.2f}%\")"
      ],
      "metadata": {
        "id": "D9UVSlKTnX8J"
      },
      "execution_count": 68,
      "outputs": []
    },
    {
      "cell_type": "code",
      "source": [
        "# Building a LSTM class for our model\n",
        "\n",
        "import torch\n",
        "import torch.nn as nn\n",
        "\n",
        "class LSTMModel(nn.Module):\n",
        "    def __init__(self, input_size, hidden_size, num_layers, num_classes):\n",
        "        super(LSTMModel, self).__init__()\n",
        "        self.hidden_size = hidden_size\n",
        "        self.num_layers = num_layers\n",
        "        self.lstm = nn.LSTM(input_size, hidden_size, num_layers, batch_first=True)\n",
        "        self.fc = nn.Linear(hidden_size, num_classes)\n",
        "\n",
        "    def forward(self, x):\n",
        "        # x is expected to have dimensions (batch_size, input_size)\n",
        "        batch_size = x.size(0)\n",
        "        x = x.view(batch_size, 1, -1)  # Reshape to (batch_size, seq_len=1, input_size)\n",
        "        h0 = torch.zeros(self.num_layers, x.size(0), self.hidden_size).to(x.device)\n",
        "        c0 = torch.zeros(self.num_layers, x.size(0), self.hidden_size).to(x.device)\n",
        "        out, _ = self.lstm(x, (h0, c0))\n",
        "        out = self.fc(out[:, -1, :])\n",
        "        return out\n",
        "\n",
        "model_0=LSTMModel(input_size=48*48, hidden_size=128, num_layers=5, num_classes=len(emotions)).to(device)\n",
        "\n",
        "model_0\n"
      ],
      "metadata": {
        "colab": {
          "base_uri": "https://localhost:8080/"
        },
        "id": "lxL04YKknkpN",
        "outputId": "3fce9d7b-f94f-4608-b736-c81a49806144"
      },
      "execution_count": 70,
      "outputs": [
        {
          "output_type": "execute_result",
          "data": {
            "text/plain": [
              "LSTMModel(\n",
              "  (lstm): LSTM(2304, 128, num_layers=5, batch_first=True)\n",
              "  (fc): Linear(in_features=128, out_features=7, bias=True)\n",
              ")"
            ]
          },
          "metadata": {},
          "execution_count": 70
        }
      ]
    },
    {
      "cell_type": "code",
      "source": [
        "# Optimizer and loss func\n",
        "from helper_functions import accuracy_fn\n",
        "loss_fn = nn.CrossEntropyLoss()\n",
        "optimizer = torch.optim.Adam(model_0.parameters(), lr=0.1)"
      ],
      "metadata": {
        "id": "VreuwnxGnzNu"
      },
      "execution_count": 77,
      "outputs": []
    },
    {
      "cell_type": "code",
      "source": [
        "torch.manual_seed(42)\n",
        "epochs=50\n",
        "\n",
        "for epoch in tqdm(range(epochs)):\n",
        "  print(f\"Epoch {epoch} \\n --------\")\n",
        "  train_step(model= model_0,\n",
        "             data_loader=train_dataloader,\n",
        "             loss_fn=loss_fn,\n",
        "             optimizer=optimizer,\n",
        "             accuracy_fn=accuracy_fn,\n",
        "             device=\"cpu\")\n",
        "  test_step(model= model_0,\n",
        "             data_loader=test_dataloader,\n",
        "             loss_fn=loss_fn,\n",
        "             accuracy_fn=accuracy_fn,\n",
        "             device=\"cpu\")\n"
      ],
      "metadata": {
        "colab": {
          "base_uri": "https://localhost:8080/",
          "height": 327,
          "referenced_widgets": [
            "e8b8cc48c2b541afb8826817f4adc57a",
            "106ea2d30780424199adfd258c8a5344",
            "299ef9792b69438d9f8ae22576b6fab9",
            "abb4a39a771a46bbb84cb3375bf3517e",
            "7c17ddbff8974356b0b66271233ccea7",
            "ff5d9007116545a8bb1b02d7146cddb3",
            "998286de93334ad4afb5be3af2ecc489",
            "051a0fc057c44dda82fac8244bf3cc26",
            "7a368527b77b401788c92fd97607ce17",
            "b8317429a1f844c1a33a87a2d7d6fed0",
            "3a15a02e4ab74fc9bc5f3d7657fe01b3"
          ]
        },
        "id": "bSoQ2zA-obaW",
        "outputId": "3a8641fb-e12f-4954-bf5e-dbaaec53b363"
      },
      "execution_count": null,
      "outputs": [
        {
          "output_type": "display_data",
          "data": {
            "text/plain": [
              "  0%|          | 0/50 [00:00<?, ?it/s]"
            ],
            "application/vnd.jupyter.widget-view+json": {
              "version_major": 2,
              "version_minor": 0,
              "model_id": "e8b8cc48c2b541afb8826817f4adc57a"
            }
          },
          "metadata": {}
        },
        {
          "output_type": "stream",
          "name": "stdout",
          "text": [
            "Epoch 0 \n",
            " --------\n",
            "\n",
            "Train loss : 1.80985 |  Train acc: 24.56%\n",
            "\n",
            "Test loss : 1.82165 |  Test acc: 24.53%\n",
            "Epoch 1 \n",
            " --------\n",
            "\n",
            "Train loss : 1.82006 |  Train acc: 24.50%\n",
            "\n",
            "Test loss : 1.82198 |  Test acc: 24.53%\n",
            "Epoch 2 \n",
            " --------\n",
            "\n",
            "Train loss : 1.82054 |  Train acc: 24.38%\n"
          ]
        }
      ]
    }
  ]
}